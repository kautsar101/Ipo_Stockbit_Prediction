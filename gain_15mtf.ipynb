{
 "cells": [
  {
   "cell_type": "code",
   "execution_count": 1,
   "metadata": {},
   "outputs": [],
   "source": [
    "import pandas as pd\n",
    "df = pd.read_csv(\"Doc//ipodata.csv\")"
   ]
  },
  {
   "cell_type": "code",
   "execution_count": 3,
   "metadata": {},
   "outputs": [],
   "source": [
    "codes = df[\"Code\"]\n",
    "df[\"Date\"]  =pd.to_datetime(df[\"Date\"], format='%d %b %Y')\n",
    "dates = df[\"Date\"]\n",
    "prices = df[\"Price\"].apply(lambda x:int(x.replace(\"Rp\",\"\")))"
   ]
  },
  {
   "cell_type": "code",
   "execution_count": 4,
   "metadata": {},
   "outputs": [
    {
     "name": "stdout",
     "output_type": "stream",
     "text": [
      "31 Jul 2024\n"
     ]
    }
   ],
   "source": [
    "from datetime import datetime\n",
    "# Get today's date\n",
    "today_date = datetime.today()\n",
    "# Format the date as 'DD MMM YYYY'\n",
    "formatted_date = today_date.strftime('%d %b %Y')\n",
    "print(formatted_date)"
   ]
  },
  {
   "cell_type": "code",
   "execution_count": null,
   "metadata": {},
   "outputs": [],
   "source": [
    "import yfinance as yf\n",
    "performances = {\n",
    "    f\"{k} candle gain\": [] for k in range(1, 6)\n",
    "}\n",
    "performances.update({\n",
    "    f\"{k} candle high\": [] for k in range(1, 6)\n",
    "})\n",
    "\n",
    "i=0\n",
    "for j in range(len(codes)) :\n",
    "\n",
    "    # Define the ticker symbol\n",
    "    ticker_symbol = f\"{codes[j]}.JK\"\n",
    "    print(codes[j])\n",
    "\n",
    "    # Get data for a specific period\n",
    "    stock_data = yf.download(ticker_symbol, start= dates[j], end=today_date)\n",
    "    print(stock_data)\n",
    "\n",
    "    # actual opening price\n",
    "    open_price = prices[j]\n",
    "\n",
    "    for k in range(1,6):\n",
    "        if len(stock_data) >= k :\n",
    "            last_candle = stock_data.iloc[k-1]\n",
    "            gain = (last_candle[\"Close\"] - open_price)/open_price * 100\n",
    "            high = (last_candle[\"High\"] - open_price)/open_price * 100\n",
    "            print(f\"{k} Candle Gain: {gain:.2f}\")\n",
    "            print(f\"{k} Candle high: {high:.2f}\")\n",
    "\n",
    "        else : gain,high = None,None\n",
    "        \n",
    "        performances[f\"{k} candle gain\"].append(gain)\n",
    "        performances[f\"{k} candle high\"].append(high)\n",
    "    print(\"\\n\")\n"
   ]
  }
 ],
 "metadata": {
  "kernelspec": {
   "display_name": "Python 3",
   "language": "python",
   "name": "python3"
  },
  "language_info": {
   "codemirror_mode": {
    "name": "ipython",
    "version": 3
   },
   "file_extension": ".py",
   "mimetype": "text/x-python",
   "name": "python",
   "nbconvert_exporter": "python",
   "pygments_lexer": "ipython3",
   "version": "3.11.4"
  }
 },
 "nbformat": 4,
 "nbformat_minor": 2
}
